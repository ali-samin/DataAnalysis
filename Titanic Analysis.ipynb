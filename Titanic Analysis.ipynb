{
 "cells": [
  {
   "cell_type": "code",
   "execution_count": 8,
   "id": "992e44e0",
   "metadata": {},
   "outputs": [],
   "source": [
    "import pandas as pd"
   ]
  },
  {
   "cell_type": "code",
   "execution_count": 11,
   "id": "f80eb8ce",
   "metadata": {},
   "outputs": [],
   "source": [
    "titanic = pd.read_csv('Titanic.csv')"
   ]
  },
  {
   "cell_type": "code",
   "execution_count": 12,
   "id": "c8f25e9e",
   "metadata": {},
   "outputs": [
    {
     "data": {
      "text/html": [
       "<div>\n",
       "<style scoped>\n",
       "    .dataframe tbody tr th:only-of-type {\n",
       "        vertical-align: middle;\n",
       "    }\n",
       "\n",
       "    .dataframe tbody tr th {\n",
       "        vertical-align: top;\n",
       "    }\n",
       "\n",
       "    .dataframe thead th {\n",
       "        text-align: right;\n",
       "    }\n",
       "</style>\n",
       "<table border=\"1\" class=\"dataframe\">\n",
       "  <thead>\n",
       "    <tr style=\"text-align: right;\">\n",
       "      <th></th>\n",
       "      <th>pclass</th>\n",
       "      <th>survived</th>\n",
       "      <th>name</th>\n",
       "      <th>sex</th>\n",
       "      <th>age</th>\n",
       "      <th>sibsp</th>\n",
       "      <th>parch</th>\n",
       "      <th>ticket</th>\n",
       "      <th>fare</th>\n",
       "      <th>cabin</th>\n",
       "      <th>embarked</th>\n",
       "      <th>boat</th>\n",
       "      <th>body</th>\n",
       "      <th>home.dest</th>\n",
       "    </tr>\n",
       "  </thead>\n",
       "  <tbody>\n",
       "    <tr>\n",
       "      <th>0</th>\n",
       "      <td>1</td>\n",
       "      <td>1</td>\n",
       "      <td>Allen, Miss. Elisabeth Walton</td>\n",
       "      <td>female</td>\n",
       "      <td>29.00</td>\n",
       "      <td>0</td>\n",
       "      <td>0</td>\n",
       "      <td>24160</td>\n",
       "      <td>211.3375</td>\n",
       "      <td>B5</td>\n",
       "      <td>S</td>\n",
       "      <td>2</td>\n",
       "      <td>NaN</td>\n",
       "      <td>St Louis, MO</td>\n",
       "    </tr>\n",
       "    <tr>\n",
       "      <th>1</th>\n",
       "      <td>1</td>\n",
       "      <td>1</td>\n",
       "      <td>Allison, Master. Hudson Trevor</td>\n",
       "      <td>male</td>\n",
       "      <td>0.92</td>\n",
       "      <td>1</td>\n",
       "      <td>2</td>\n",
       "      <td>113781</td>\n",
       "      <td>151.5500</td>\n",
       "      <td>C22 C26</td>\n",
       "      <td>S</td>\n",
       "      <td>11</td>\n",
       "      <td>NaN</td>\n",
       "      <td>Montreal, PQ / Chesterville, ON</td>\n",
       "    </tr>\n",
       "    <tr>\n",
       "      <th>2</th>\n",
       "      <td>1</td>\n",
       "      <td>0</td>\n",
       "      <td>Allison, Miss. Helen Loraine</td>\n",
       "      <td>female</td>\n",
       "      <td>2.00</td>\n",
       "      <td>1</td>\n",
       "      <td>2</td>\n",
       "      <td>113781</td>\n",
       "      <td>151.5500</td>\n",
       "      <td>C22 C26</td>\n",
       "      <td>S</td>\n",
       "      <td>NaN</td>\n",
       "      <td>NaN</td>\n",
       "      <td>Montreal, PQ / Chesterville, ON</td>\n",
       "    </tr>\n",
       "    <tr>\n",
       "      <th>3</th>\n",
       "      <td>1</td>\n",
       "      <td>0</td>\n",
       "      <td>Allison, Mr. Hudson Joshua Creighton</td>\n",
       "      <td>male</td>\n",
       "      <td>30.00</td>\n",
       "      <td>1</td>\n",
       "      <td>2</td>\n",
       "      <td>113781</td>\n",
       "      <td>151.5500</td>\n",
       "      <td>C22 C26</td>\n",
       "      <td>S</td>\n",
       "      <td>NaN</td>\n",
       "      <td>135.0</td>\n",
       "      <td>Montreal, PQ / Chesterville, ON</td>\n",
       "    </tr>\n",
       "    <tr>\n",
       "      <th>4</th>\n",
       "      <td>1</td>\n",
       "      <td>0</td>\n",
       "      <td>Allison, Mrs. Hudson J C (Bessie Waldo Daniels)</td>\n",
       "      <td>female</td>\n",
       "      <td>25.00</td>\n",
       "      <td>1</td>\n",
       "      <td>2</td>\n",
       "      <td>113781</td>\n",
       "      <td>151.5500</td>\n",
       "      <td>C22 C26</td>\n",
       "      <td>S</td>\n",
       "      <td>NaN</td>\n",
       "      <td>NaN</td>\n",
       "      <td>Montreal, PQ / Chesterville, ON</td>\n",
       "    </tr>\n",
       "    <tr>\n",
       "      <th>...</th>\n",
       "      <td>...</td>\n",
       "      <td>...</td>\n",
       "      <td>...</td>\n",
       "      <td>...</td>\n",
       "      <td>...</td>\n",
       "      <td>...</td>\n",
       "      <td>...</td>\n",
       "      <td>...</td>\n",
       "      <td>...</td>\n",
       "      <td>...</td>\n",
       "      <td>...</td>\n",
       "      <td>...</td>\n",
       "      <td>...</td>\n",
       "      <td>...</td>\n",
       "    </tr>\n",
       "    <tr>\n",
       "      <th>1304</th>\n",
       "      <td>3</td>\n",
       "      <td>0</td>\n",
       "      <td>Zabour, Miss. Hileni</td>\n",
       "      <td>female</td>\n",
       "      <td>14.50</td>\n",
       "      <td>1</td>\n",
       "      <td>0</td>\n",
       "      <td>2665</td>\n",
       "      <td>14.4542</td>\n",
       "      <td>NaN</td>\n",
       "      <td>C</td>\n",
       "      <td>NaN</td>\n",
       "      <td>328.0</td>\n",
       "      <td>NaN</td>\n",
       "    </tr>\n",
       "    <tr>\n",
       "      <th>1305</th>\n",
       "      <td>3</td>\n",
       "      <td>0</td>\n",
       "      <td>Zabour, Miss. Thamine</td>\n",
       "      <td>female</td>\n",
       "      <td>NaN</td>\n",
       "      <td>1</td>\n",
       "      <td>0</td>\n",
       "      <td>2665</td>\n",
       "      <td>14.4542</td>\n",
       "      <td>NaN</td>\n",
       "      <td>C</td>\n",
       "      <td>NaN</td>\n",
       "      <td>NaN</td>\n",
       "      <td>NaN</td>\n",
       "    </tr>\n",
       "    <tr>\n",
       "      <th>1306</th>\n",
       "      <td>3</td>\n",
       "      <td>0</td>\n",
       "      <td>Zakarian, Mr. Mapriededer</td>\n",
       "      <td>male</td>\n",
       "      <td>26.50</td>\n",
       "      <td>0</td>\n",
       "      <td>0</td>\n",
       "      <td>2656</td>\n",
       "      <td>7.2250</td>\n",
       "      <td>NaN</td>\n",
       "      <td>C</td>\n",
       "      <td>NaN</td>\n",
       "      <td>304.0</td>\n",
       "      <td>NaN</td>\n",
       "    </tr>\n",
       "    <tr>\n",
       "      <th>1307</th>\n",
       "      <td>3</td>\n",
       "      <td>0</td>\n",
       "      <td>Zakarian, Mr. Ortin</td>\n",
       "      <td>male</td>\n",
       "      <td>27.00</td>\n",
       "      <td>0</td>\n",
       "      <td>0</td>\n",
       "      <td>2670</td>\n",
       "      <td>7.2250</td>\n",
       "      <td>NaN</td>\n",
       "      <td>C</td>\n",
       "      <td>NaN</td>\n",
       "      <td>NaN</td>\n",
       "      <td>NaN</td>\n",
       "    </tr>\n",
       "    <tr>\n",
       "      <th>1308</th>\n",
       "      <td>3</td>\n",
       "      <td>0</td>\n",
       "      <td>Zimmerman, Mr. Leo</td>\n",
       "      <td>male</td>\n",
       "      <td>29.00</td>\n",
       "      <td>0</td>\n",
       "      <td>0</td>\n",
       "      <td>315082</td>\n",
       "      <td>7.8750</td>\n",
       "      <td>NaN</td>\n",
       "      <td>S</td>\n",
       "      <td>NaN</td>\n",
       "      <td>NaN</td>\n",
       "      <td>NaN</td>\n",
       "    </tr>\n",
       "  </tbody>\n",
       "</table>\n",
       "<p>1309 rows × 14 columns</p>\n",
       "</div>"
      ],
      "text/plain": [
       "      pclass  survived                                             name  \\\n",
       "0          1         1                    Allen, Miss. Elisabeth Walton   \n",
       "1          1         1                   Allison, Master. Hudson Trevor   \n",
       "2          1         0                     Allison, Miss. Helen Loraine   \n",
       "3          1         0             Allison, Mr. Hudson Joshua Creighton   \n",
       "4          1         0  Allison, Mrs. Hudson J C (Bessie Waldo Daniels)   \n",
       "...      ...       ...                                              ...   \n",
       "1304       3         0                             Zabour, Miss. Hileni   \n",
       "1305       3         0                            Zabour, Miss. Thamine   \n",
       "1306       3         0                        Zakarian, Mr. Mapriededer   \n",
       "1307       3         0                              Zakarian, Mr. Ortin   \n",
       "1308       3         0                               Zimmerman, Mr. Leo   \n",
       "\n",
       "         sex    age  sibsp  parch  ticket      fare    cabin embarked boat  \\\n",
       "0     female  29.00      0      0   24160  211.3375       B5        S    2   \n",
       "1       male   0.92      1      2  113781  151.5500  C22 C26        S   11   \n",
       "2     female   2.00      1      2  113781  151.5500  C22 C26        S  NaN   \n",
       "3       male  30.00      1      2  113781  151.5500  C22 C26        S  NaN   \n",
       "4     female  25.00      1      2  113781  151.5500  C22 C26        S  NaN   \n",
       "...      ...    ...    ...    ...     ...       ...      ...      ...  ...   \n",
       "1304  female  14.50      1      0    2665   14.4542      NaN        C  NaN   \n",
       "1305  female    NaN      1      0    2665   14.4542      NaN        C  NaN   \n",
       "1306    male  26.50      0      0    2656    7.2250      NaN        C  NaN   \n",
       "1307    male  27.00      0      0    2670    7.2250      NaN        C  NaN   \n",
       "1308    male  29.00      0      0  315082    7.8750      NaN        S  NaN   \n",
       "\n",
       "       body                        home.dest  \n",
       "0       NaN                     St Louis, MO  \n",
       "1       NaN  Montreal, PQ / Chesterville, ON  \n",
       "2       NaN  Montreal, PQ / Chesterville, ON  \n",
       "3     135.0  Montreal, PQ / Chesterville, ON  \n",
       "4       NaN  Montreal, PQ / Chesterville, ON  \n",
       "...     ...                              ...  \n",
       "1304  328.0                              NaN  \n",
       "1305    NaN                              NaN  \n",
       "1306  304.0                              NaN  \n",
       "1307    NaN                              NaN  \n",
       "1308    NaN                              NaN  \n",
       "\n",
       "[1309 rows x 14 columns]"
      ]
     },
     "execution_count": 12,
     "metadata": {},
     "output_type": "execute_result"
    }
   ],
   "source": [
    "titanic"
   ]
  },
  {
   "cell_type": "code",
   "execution_count": 14,
   "id": "6cd06b1d",
   "metadata": {},
   "outputs": [],
   "source": [
    "female = titanic[titanic['sex'] == 'female']"
   ]
  },
  {
   "cell_type": "code",
   "execution_count": 15,
   "id": "4c2ecc00",
   "metadata": {},
   "outputs": [
    {
     "name": "stdout",
     "output_type": "stream",
     "text": [
      "    pclass  survived                                               name  \\\n",
      "0        1         1                      Allen, Miss. Elisabeth Walton   \n",
      "2        1         0                       Allison, Miss. Helen Loraine   \n",
      "4        1         0    Allison, Mrs. Hudson J C (Bessie Waldo Daniels)   \n",
      "6        1         1                  Andrews, Miss. Kornelia Theodosia   \n",
      "8        1         1      Appleton, Mrs. Edward Dale (Charlotte Lamson)   \n",
      "11       1         1  Astor, Mrs. John Jacob (Madeleine Talmadge Force)   \n",
      "12       1         1                      Aubart, Mme. Leontine Pauline   \n",
      "13       1         1                       Barber, Miss. Ellen \"Nellie\"   \n",
      "\n",
      "       sex   age  sibsp  parch    ticket      fare    cabin embarked boat  \\\n",
      "0   female  29.0      0      0     24160  211.3375       B5        S    2   \n",
      "2   female   2.0      1      2    113781  151.5500  C22 C26        S  NaN   \n",
      "4   female  25.0      1      2    113781  151.5500  C22 C26        S  NaN   \n",
      "6   female  63.0      1      0     13502   77.9583       D7        S   10   \n",
      "8   female  53.0      2      0     11769   51.4792     C101        S    D   \n",
      "11  female  18.0      1      0  PC 17757  227.5250  C62 C64        C    4   \n",
      "12  female  24.0      0      0  PC 17477   69.3000      B35        C    9   \n",
      "13  female  26.0      0      0     19877   78.8500      NaN        S    6   \n",
      "\n",
      "    body                        home.dest  \n",
      "0    NaN                     St Louis, MO  \n",
      "2    NaN  Montreal, PQ / Chesterville, ON  \n",
      "4    NaN  Montreal, PQ / Chesterville, ON  \n",
      "6    NaN                       Hudson, NY  \n",
      "8    NaN              Bayside, Queens, NY  \n",
      "11   NaN                     New York, NY  \n",
      "12   NaN                    Paris, France  \n",
      "13   NaN                              NaN  \n"
     ]
    }
   ],
   "source": [
    "print(female.head(8))"
   ]
  },
  {
   "cell_type": "code",
   "execution_count": 19,
   "id": "40592777",
   "metadata": {},
   "outputs": [],
   "source": [
    "survived = female[female['survived'] == 1].shape[0]\n",
    "not_survived = female[female['survived'] == 0].shape[0]"
   ]
  },
  {
   "cell_type": "code",
   "execution_count": 20,
   "id": "634a1484",
   "metadata": {},
   "outputs": [
    {
     "name": "stdout",
     "output_type": "stream",
     "text": [
      "Number of female passengers who survived: 339\n",
      "Number of female passengers who did not survive: 127\n"
     ]
    }
   ],
   "source": [
    "print(\"Number of female passengers who survived:\", survived)\n",
    "print(\"Number of female passengers who did not survive:\", not_survived)"
   ]
  },
  {
   "cell_type": "code",
   "execution_count": 21,
   "id": "ae7c1858",
   "metadata": {},
   "outputs": [],
   "source": [
    "survived_by_class = female[female['survived'] == 1].groupby('pclass').size()\n",
    "not_survived_by_class = female[female['survived'] == 0].groupby('pclass').size()"
   ]
  },
  {
   "cell_type": "code",
   "execution_count": 22,
   "id": "7899a6e7",
   "metadata": {},
   "outputs": [
    {
     "name": "stdout",
     "output_type": "stream",
     "text": [
      "Number of female passengers who survived by class:\n",
      "pclass\n",
      "1    139\n",
      "2     94\n",
      "3    106\n",
      "dtype: int64\n"
     ]
    }
   ],
   "source": [
    "print(\"Number of female passengers who survived by class:\")\n",
    "print(survived_by_class)"
   ]
  },
  {
   "cell_type": "code",
   "execution_count": 24,
   "id": "e69acf71",
   "metadata": {},
   "outputs": [
    {
     "name": "stdout",
     "output_type": "stream",
     "text": [
      "\n",
      "Number of female passengers who did not survive by class:\n",
      "pclass\n",
      "1      5\n",
      "2     12\n",
      "3    110\n",
      "dtype: int64\n"
     ]
    }
   ],
   "source": [
    "print(\"\\nNumber of female passengers who did not survive by class:\")\n",
    "print(not_survived_by_class)"
   ]
  },
  {
   "cell_type": "code",
   "execution_count": 27,
   "id": "1d6e5dab",
   "metadata": {},
   "outputs": [],
   "source": [
    "adult_passengers = titanic[titanic['age'] > 18]"
   ]
  },
  {
   "cell_type": "code",
   "execution_count": 28,
   "id": "7b1b2b42",
   "metadata": {},
   "outputs": [
    {
     "name": "stdout",
     "output_type": "stream",
     "text": [
      "      pclass  survived                                             name  \\\n",
      "0          1         1                    Allen, Miss. Elisabeth Walton   \n",
      "3          1         0             Allison, Mr. Hudson Joshua Creighton   \n",
      "4          1         0  Allison, Mrs. Hudson J C (Bessie Waldo Daniels)   \n",
      "5          1         1                              Anderson, Mr. Harry   \n",
      "6          1         1                Andrews, Miss. Kornelia Theodosia   \n",
      "...      ...       ...                                              ...   \n",
      "1299       3         0                              Yasbeck, Mr. Antoni   \n",
      "1301       3         0                             Youseff, Mr. Gerious   \n",
      "1306       3         0                        Zakarian, Mr. Mapriededer   \n",
      "1307       3         0                              Zakarian, Mr. Ortin   \n",
      "1308       3         0                               Zimmerman, Mr. Leo   \n",
      "\n",
      "         sex   age  sibsp  parch  ticket      fare    cabin embarked boat  \\\n",
      "0     female  29.0      0      0   24160  211.3375       B5        S    2   \n",
      "3       male  30.0      1      2  113781  151.5500  C22 C26        S  NaN   \n",
      "4     female  25.0      1      2  113781  151.5500  C22 C26        S  NaN   \n",
      "5       male  48.0      0      0   19952   26.5500      E12        S    3   \n",
      "6     female  63.0      1      0   13502   77.9583       D7        S   10   \n",
      "...      ...   ...    ...    ...     ...       ...      ...      ...  ...   \n",
      "1299    male  27.0      1      0    2659   14.4542      NaN        C    C   \n",
      "1301    male  45.5      0      0    2628    7.2250      NaN        C  NaN   \n",
      "1306    male  26.5      0      0    2656    7.2250      NaN        C  NaN   \n",
      "1307    male  27.0      0      0    2670    7.2250      NaN        C  NaN   \n",
      "1308    male  29.0      0      0  315082    7.8750      NaN        S  NaN   \n",
      "\n",
      "       body                        home.dest  \n",
      "0       NaN                     St Louis, MO  \n",
      "3     135.0  Montreal, PQ / Chesterville, ON  \n",
      "4       NaN  Montreal, PQ / Chesterville, ON  \n",
      "5       NaN                     New York, NY  \n",
      "6       NaN                       Hudson, NY  \n",
      "...     ...                              ...  \n",
      "1299    NaN                              NaN  \n",
      "1301  312.0                              NaN  \n",
      "1306  304.0                              NaN  \n",
      "1307    NaN                              NaN  \n",
      "1308    NaN                              NaN  \n",
      "\n",
      "[853 rows x 14 columns]\n"
     ]
    }
   ],
   "source": [
    "print(adult_passengers)"
   ]
  },
  {
   "cell_type": "code",
   "execution_count": 29,
   "id": "16cd9633",
   "metadata": {},
   "outputs": [],
   "source": [
    "adult_female_passengers = titanic[(titanic['age'] > 18) & (titanic['sex'] == 'female')]"
   ]
  },
  {
   "cell_type": "code",
   "execution_count": 30,
   "id": "0897b6f3",
   "metadata": {},
   "outputs": [
    {
     "name": "stdout",
     "output_type": "stream",
     "text": [
      "      pclass  survived                                               name  \\\n",
      "0          1         1                      Allen, Miss. Elisabeth Walton   \n",
      "4          1         0    Allison, Mrs. Hudson J C (Bessie Waldo Daniels)   \n",
      "6          1         1                  Andrews, Miss. Kornelia Theodosia   \n",
      "8          1         1      Appleton, Mrs. Edward Dale (Charlotte Lamson)   \n",
      "12         1         1                      Aubart, Mme. Leontine Pauline   \n",
      "...      ...       ...                                                ...   \n",
      "1261       3         1                             Turkula, Mrs. (Hedwig)   \n",
      "1267       3         0  Van Impe, Mrs. Jean Baptiste (Rosalie Paula Go...   \n",
      "1276       3         0  Vander Planke, Mrs. Julius (Emelia Maria Vande...   \n",
      "1286       3         1    Whabee, Mrs. George Joseph (Shawneene Abi-Saab)   \n",
      "1290       3         1                   Wilkes, Mrs. James (Ellen Needs)   \n",
      "\n",
      "         sex   age  sibsp  parch    ticket      fare    cabin embarked boat  \\\n",
      "0     female  29.0      0      0     24160  211.3375       B5        S    2   \n",
      "4     female  25.0      1      2    113781  151.5500  C22 C26        S  NaN   \n",
      "6     female  63.0      1      0     13502   77.9583       D7        S   10   \n",
      "8     female  53.0      2      0     11769   51.4792     C101        S    D   \n",
      "12    female  24.0      0      0  PC 17477   69.3000      B35        C    9   \n",
      "...      ...   ...    ...    ...       ...       ...      ...      ...  ...   \n",
      "1261  female  63.0      0      0      4134    9.5875      NaN        S   15   \n",
      "1267  female  30.0      1      1    345773   24.1500      NaN        S  NaN   \n",
      "1276  female  31.0      1      0    345763   18.0000      NaN        S  NaN   \n",
      "1286  female  38.0      0      0      2688    7.2292      NaN        C    C   \n",
      "1290  female  47.0      1      0    363272    7.0000      NaN        S  NaN   \n",
      "\n",
      "      body                        home.dest  \n",
      "0      NaN                     St Louis, MO  \n",
      "4      NaN  Montreal, PQ / Chesterville, ON  \n",
      "6      NaN                       Hudson, NY  \n",
      "8      NaN              Bayside, Queens, NY  \n",
      "12     NaN                    Paris, France  \n",
      "...    ...                              ...  \n",
      "1261   NaN                              NaN  \n",
      "1267   NaN                              NaN  \n",
      "1276   NaN                              NaN  \n",
      "1286   NaN                              NaN  \n",
      "1290   NaN                              NaN  \n",
      "\n",
      "[296 rows x 14 columns]\n"
     ]
    }
   ],
   "source": [
    "print(adult_female_passengers)"
   ]
  },
  {
   "cell_type": "code",
   "execution_count": 31,
   "id": "a808192b",
   "metadata": {},
   "outputs": [],
   "source": [
    "selected_passengers = titanic[(titanic['age'] > 18) & (titanic['sex'] == 'female') & (titanic['pclass'] == 1)]"
   ]
  },
  {
   "cell_type": "code",
   "execution_count": 32,
   "id": "0a93ac19",
   "metadata": {},
   "outputs": [
    {
     "name": "stdout",
     "output_type": "stream",
     "text": [
      "     pclass  survived                                             name  \\\n",
      "0         1         1                    Allen, Miss. Elisabeth Walton   \n",
      "4         1         0  Allison, Mrs. Hudson J C (Bessie Waldo Daniels)   \n",
      "6         1         1                Andrews, Miss. Kornelia Theodosia   \n",
      "8         1         1    Appleton, Mrs. Edward Dale (Charlotte Lamson)   \n",
      "12        1         1                    Aubart, Mme. Leontine Pauline   \n",
      "..      ...       ...                                              ...   \n",
      "311       1         1       Wick, Mrs. George Dennick (Mary Hitchcock)   \n",
      "314       1         1     Widener, Mrs. George Dunton (Eleanor Elkins)   \n",
      "315       1         1                         Willard, Miss. Constance   \n",
      "319       1         1                        Wilson, Miss. Helen Alice   \n",
      "322       1         1                         Young, Miss. Marie Grice   \n",
      "\n",
      "        sex   age  sibsp  parch    ticket      fare    cabin embarked  boat  \\\n",
      "0    female  29.0      0      0     24160  211.3375       B5        S     2   \n",
      "4    female  25.0      1      2    113781  151.5500  C22 C26        S   NaN   \n",
      "6    female  63.0      1      0     13502   77.9583       D7        S    10   \n",
      "8    female  53.0      2      0     11769   51.4792     C101        S     D   \n",
      "12   female  24.0      0      0  PC 17477   69.3000      B35        C     9   \n",
      "..      ...   ...    ...    ...       ...       ...      ...      ...   ...   \n",
      "311  female  45.0      1      1     36928  164.8667      NaN        S     8   \n",
      "314  female  50.0      1      1    113503  211.5000      C80        C     4   \n",
      "315  female  21.0      0      0    113795   26.5500      NaN        S  8 10   \n",
      "319  female  31.0      0      0     16966  134.5000  E39 E41        C     3   \n",
      "322  female  36.0      0      0  PC 17760  135.6333      C32        C     8   \n",
      "\n",
      "     body                        home.dest  \n",
      "0     NaN                     St Louis, MO  \n",
      "4     NaN  Montreal, PQ / Chesterville, ON  \n",
      "6     NaN                       Hudson, NY  \n",
      "8     NaN              Bayside, Queens, NY  \n",
      "12    NaN                    Paris, France  \n",
      "..    ...                              ...  \n",
      "311   NaN                   Youngstown, OH  \n",
      "314   NaN                  Elkins Park, PA  \n",
      "315   NaN                       Duluth, MN  \n",
      "319   NaN                              NaN  \n",
      "322   NaN    New York, NY / Washington, DC  \n",
      "\n",
      "[120 rows x 14 columns]\n"
     ]
    }
   ],
   "source": [
    "print(selected_passengers)"
   ]
  },
  {
   "cell_type": "code",
   "execution_count": 33,
   "id": "0f56b5b9",
   "metadata": {},
   "outputs": [],
   "source": [
    "selected_passengers = titanic[(titanic['age'] > 18) & (titanic['sex'] == 'female') & (titanic['pclass'] == 1)]"
   ]
  },
  {
   "cell_type": "code",
   "execution_count": 35,
   "id": "7fba029c",
   "metadata": {},
   "outputs": [],
   "source": [
    "mean_age = selected_passengers['age'].mean()"
   ]
  },
  {
   "cell_type": "code",
   "execution_count": 36,
   "id": "75951c8b",
   "metadata": {},
   "outputs": [
    {
     "name": "stdout",
     "output_type": "stream",
     "text": [
      "Mean age of selected passengers: 39.358333333333334\n"
     ]
    }
   ],
   "source": [
    "print(\"Mean age of selected passengers:\", mean_age)"
   ]
  },
  {
   "cell_type": "code",
   "execution_count": 38,
   "id": "763d75c4",
   "metadata": {},
   "outputs": [],
   "source": [
    "selected_passengers = titanic[((titanic['age'] > 18) | (titanic['sex'] == 'female')) & (titanic['pclass'] == 1)]"
   ]
  },
  {
   "cell_type": "code",
   "execution_count": 39,
   "id": "9bbbcb9b",
   "metadata": {},
   "outputs": [
    {
     "name": "stdout",
     "output_type": "stream",
     "text": [
      "     pclass  survived                                             name  \\\n",
      "0         1         1                    Allen, Miss. Elisabeth Walton   \n",
      "2         1         0                     Allison, Miss. Helen Loraine   \n",
      "3         1         0             Allison, Mr. Hudson Joshua Creighton   \n",
      "4         1         0  Allison, Mrs. Hudson J C (Bessie Waldo Daniels)   \n",
      "5         1         1                              Anderson, Mr. Harry   \n",
      "..      ...       ...                                              ...   \n",
      "316       1         0                      Williams, Mr. Charles Duane   \n",
      "317       1         1                  Williams, Mr. Richard Norris II   \n",
      "319       1         1                        Wilson, Miss. Helen Alice   \n",
      "321       1         0                               Wright, Mr. George   \n",
      "322       1         1                         Young, Miss. Marie Grice   \n",
      "\n",
      "        sex   age  sibsp  parch    ticket      fare    cabin embarked boat  \\\n",
      "0    female  29.0      0      0     24160  211.3375       B5        S    2   \n",
      "2    female   2.0      1      2    113781  151.5500  C22 C26        S  NaN   \n",
      "3      male  30.0      1      2    113781  151.5500  C22 C26        S  NaN   \n",
      "4    female  25.0      1      2    113781  151.5500  C22 C26        S  NaN   \n",
      "5      male  48.0      0      0     19952   26.5500      E12        S    3   \n",
      "..      ...   ...    ...    ...       ...       ...      ...      ...  ...   \n",
      "316    male  51.0      0      1  PC 17597   61.3792      NaN        C  NaN   \n",
      "317    male  21.0      0      1  PC 17597   61.3792      NaN        C    A   \n",
      "319  female  31.0      0      0     16966  134.5000  E39 E41        C    3   \n",
      "321    male  62.0      0      0    113807   26.5500      NaN        S  NaN   \n",
      "322  female  36.0      0      0  PC 17760  135.6333      C32        C    8   \n",
      "\n",
      "      body                         home.dest  \n",
      "0      NaN                      St Louis, MO  \n",
      "2      NaN   Montreal, PQ / Chesterville, ON  \n",
      "3    135.0   Montreal, PQ / Chesterville, ON  \n",
      "4      NaN   Montreal, PQ / Chesterville, ON  \n",
      "5      NaN                      New York, NY  \n",
      "..     ...                               ...  \n",
      "316    NaN  Geneva, Switzerland / Radnor, PA  \n",
      "317    NaN  Geneva, Switzerland / Radnor, PA  \n",
      "319    NaN                               NaN  \n",
      "321    NaN                       Halifax, NS  \n",
      "322    NaN     New York, NY / Washington, DC  \n",
      "\n",
      "[287 rows x 14 columns]\n"
     ]
    }
   ],
   "source": [
    "print(selected_passengers)"
   ]
  },
  {
   "cell_type": "code",
   "execution_count": 41,
   "id": "4e0f3441",
   "metadata": {},
   "outputs": [],
   "source": [
    "selected_passengers = titanic[(titanic['age'] > 18) | ((titanic['sex'] == 'female') & (titanic['pclass'] == 1))]"
   ]
  },
  {
   "cell_type": "code",
   "execution_count": 43,
   "id": "03be8b09",
   "metadata": {},
   "outputs": [],
   "source": [
    "mean_age = selected_passengers['age'].mean()"
   ]
  },
  {
   "cell_type": "code",
   "execution_count": 44,
   "id": "eeec6299",
   "metadata": {},
   "outputs": [
    {
     "name": "stdout",
     "output_type": "stream",
     "text": [
      "Mean age of selected passengers: 33.89722863741339\n"
     ]
    }
   ],
   "source": [
    "print(\"Mean age of selected passengers:\", mean_age)"
   ]
  },
  {
   "cell_type": "code",
   "execution_count": null,
   "id": "4a2d3212",
   "metadata": {},
   "outputs": [],
   "source": []
  }
 ],
 "metadata": {
  "kernelspec": {
   "display_name": "Python 3 (ipykernel)",
   "language": "python",
   "name": "python3"
  },
  "language_info": {
   "codemirror_mode": {
    "name": "ipython",
    "version": 3
   },
   "file_extension": ".py",
   "mimetype": "text/x-python",
   "name": "python",
   "nbconvert_exporter": "python",
   "pygments_lexer": "ipython3",
   "version": "3.9.12"
  }
 },
 "nbformat": 4,
 "nbformat_minor": 5
}
